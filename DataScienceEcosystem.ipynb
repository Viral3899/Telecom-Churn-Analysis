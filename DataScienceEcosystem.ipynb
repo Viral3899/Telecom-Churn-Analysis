{
 "cells": [
  {
   "cell_type": "markdown",
   "id": "dcb6b9f0",
   "metadata": {},
   "source": [
    "Exercise 1: Create a Jupyter Notebook\n",
    "\n"
   ]
  },
  {
   "cell_type": "markdown",
   "id": "cff665a7",
   "metadata": {},
   "source": [
    "# Data Science Tools and Ecosystem"
   ]
  },
  {
   "cell_type": "code",
   "execution_count": null,
   "id": "2f3e30b7",
   "metadata": {},
   "outputs": [],
   "source": []
  },
  {
   "cell_type": "markdown",
   "id": "e80e342e",
   "metadata": {},
   "source": [
    "## In this notebook, Data Science Tools and Ecosystem are summarized."
   ]
  },
  {
   "cell_type": "markdown",
   "id": "d687e54e",
   "metadata": {},
   "source": [
    "#### Some of the popular languages that Data Scientists use are:\n",
    "<li>python</li>\n",
    "<li>scala</li>\n",
    "<li>julia</li>\n",
    "<li>r</li>\n"
   ]
  },
  {
   "cell_type": "markdown",
   "id": "85b21084",
   "metadata": {},
   "source": [
    "#### Some of the commonly used libraries used by Data Scientists include:\n",
    "<li>numpy</li>\n",
    "<li>tensorflow</li>\n",
    "<li>pandas</li>\n",
    "<li>sklearn</li>\n",
    "<li>pytorch</li>\n"
   ]
  },
  {
   "cell_type": "markdown",
   "id": "3a1ad2b9",
   "metadata": {},
   "source": [
    "#### Data Science Tools\n",
    "\n",
    "| Category          | Tools                                               |\n",
    "|-------------------|-----------------------------------------------------|\n",
    "| Programming       | Python, R, Julia, Java, Scala                      |\n",
    "| Data Manipulation | Pandas, NumPy, dplyr, data.table                   |\n",
    "| Visualization     | Matplotlib, Seaborn, ggplot2, Plotly, Bokeh        |\n",
    "| Machine Learning  | Scikit-learn, TensorFlow, Keras, PyTorch, XGBoost |\n",
    "| Statistics        | SciPy, statsmodels, R's stats package               |\n",
    "| Big Data          | Apache Hadoop, Apache Spark, Apache Flink           |\n",
    "| Database          | SQL, MongoDB, PostgreSQL, MySQL                    |\n",
    "| Web Scraping      | BeautifulSoup, Scrapy                              |\n",
    "| Natural Language  | NLTK, SpaCy, Gensim                                 |\n",
    "| Cloud Computing   | Google Cloud Platform, Amazon Web Services           |\n"
   ]
  },
  {
   "cell_type": "markdown",
   "id": "a47ab65e",
   "metadata": {},
   "source": [
    "#### Below are a few examples of evaluating arithmetic expressions in Python\n",
    "<li>+ -->  addition</li>\n",
    "<li>- --> subtraction </li>\n",
    "<li>* --> multiplication</li>\n",
    "<li>/ --> division etc</li>"
   ]
  },
  {
   "cell_type": "markdown",
   "id": "69f3b479",
   "metadata": {},
   "source": [
    "###  This a simple arithmetic expression to mutiply then add integers"
   ]
  },
  {
   "cell_type": "code",
   "execution_count": 1,
   "id": "21533251",
   "metadata": {},
   "outputs": [
    {
     "data": {
      "text/plain": [
       "11"
      ]
     },
     "execution_count": 1,
     "metadata": {},
     "output_type": "execute_result"
    }
   ],
   "source": [
    "5+6"
   ]
  },
  {
   "cell_type": "code",
   "execution_count": 2,
   "id": "da9bbc76",
   "metadata": {},
   "outputs": [
    {
     "data": {
      "text/plain": [
       "30"
      ]
     },
     "execution_count": 2,
     "metadata": {},
     "output_type": "execute_result"
    }
   ],
   "source": [
    "5*6"
   ]
  },
  {
   "cell_type": "markdown",
   "id": "9d00da36",
   "metadata": {},
   "source": [
    "### This will convert 200 minutes to hours by diving by 60."
   ]
  },
  {
   "cell_type": "code",
   "execution_count": 3,
   "id": "d54b1348",
   "metadata": {},
   "outputs": [
    {
     "name": "stdout",
     "output_type": "stream",
     "text": [
      "120 minutes is equal to 2.0 hours.\n"
     ]
    }
   ],
   "source": [
    "# Function to convert minutes to hours\n",
    "def minutes_to_hours(minutes):\n",
    "    hours = minutes / 60\n",
    "    return hours\n",
    "\n",
    "# Test the function\n",
    "minutes = 120\n",
    "hours = minutes_to_hours(minutes)\n",
    "print(f\"{minutes} minutes is equal to {hours} hours.\")\n"
   ]
  },
  {
   "cell_type": "markdown",
   "id": "9eca5e52",
   "metadata": {},
   "source": [
    "## Objectives:\n",
    "\n",
    "- List popular languages for Data Science.\n",
    "- Introduce common data manipulation techniques.\n",
    "- Explain the process of exploratory data analysis."
   ]
  },
  {
   "cell_type": "markdown",
   "id": "17c4773b",
   "metadata": {},
   "source": [
    "## Viral Sherathiya"
   ]
  },
  {
   "cell_type": "code",
   "execution_count": null,
   "id": "e92d6e9c",
   "metadata": {},
   "outputs": [],
   "source": []
  }
 ],
 "metadata": {
  "kernelspec": {
   "display_name": "Python 3 (ipykernel)",
   "language": "python",
   "name": "python3"
  },
  "language_info": {
   "codemirror_mode": {
    "name": "ipython",
    "version": 3
   },
   "file_extension": ".py",
   "mimetype": "text/x-python",
   "name": "python",
   "nbconvert_exporter": "python",
   "pygments_lexer": "ipython3",
   "version": "3.11.5"
  }
 },
 "nbformat": 4,
 "nbformat_minor": 5
}
